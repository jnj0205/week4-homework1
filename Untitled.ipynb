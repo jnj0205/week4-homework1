{
 "cells": [
  {
   "cell_type": "code",
   "execution_count": 4,
   "id": "0e7605b6",
   "metadata": {},
   "outputs": [
    {
     "name": "stdout",
     "output_type": "stream",
     "text": [
      "Abraham Lincoln\n",
      "Andrew P Garfield\n",
      "Connor Milliken\n",
      "Alexander Williams\n",
      "None\n",
      "None\n"
     ]
    }
   ],
   "source": [
    "import re\n",
    "with open(\"regex_test.txt\") as file:\n",
    "    list_data = file.readlines()\n",
    "\n",
    "\n",
    "def find_last_name(list_data):\n",
    "    for data in list_data:\n",
    "        found = re.findall(\"[A-Z]\\w+ [A-Z]? ?[A-Z]\\w+$\", data)\n",
    "        print(found[0].strip() if found else None)\n",
    "\n",
    "\n",
    "find_last_name(list_data)"
   ]
  },
  {
   "cell_type": "code",
   "execution_count": null,
   "id": "6dedd070",
   "metadata": {},
   "outputs": [],
   "source": []
  }
 ],
 "metadata": {
  "kernelspec": {
   "display_name": "Python 3 (ipykernel)",
   "language": "python",
   "name": "python3"
  },
  "language_info": {
   "codemirror_mode": {
    "name": "ipython",
    "version": 3
   },
   "file_extension": ".py",
   "mimetype": "text/x-python",
   "name": "python",
   "nbconvert_exporter": "python",
   "pygments_lexer": "ipython3",
   "version": "3.10.9"
  }
 },
 "nbformat": 4,
 "nbformat_minor": 5
}
